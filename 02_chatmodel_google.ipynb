{
 "cells": [
  {
   "cell_type": "code",
   "execution_count": 1,
   "id": "15b4ad6f",
   "metadata": {},
   "outputs": [
    {
     "name": "stderr",
     "output_type": "stream",
     "text": [
      "d:\\Projects\\langchain-cookbook\\venv\\Lib\\site-packages\\tqdm\\auto.py:21: TqdmWarning: IProgress not found. Please update jupyter and ipywidgets. See https://ipywidgets.readthedocs.io/en/stable/user_install.html\n",
      "  from .autonotebook import tqdm as notebook_tqdm\n"
     ]
    }
   ],
   "source": [
    "from langchain_google_genai import ChatGoogleGenerativeAI\n",
    "from dotenv import load_dotenv"
   ]
  },
  {
   "cell_type": "code",
   "execution_count": 2,
   "id": "b13fc4ab",
   "metadata": {},
   "outputs": [
    {
     "data": {
      "text/plain": [
       "True"
      ]
     },
     "execution_count": 2,
     "metadata": {},
     "output_type": "execute_result"
    }
   ],
   "source": [
    "# Load environment variables from a .env file.\n",
    "# This is a best practice for securely managing sensitive information,\n",
    "# such as API keys, keeping them out of the main codebase.\n",
    "load_dotenv()"
   ]
  },
  {
   "cell_type": "code",
   "execution_count": 3,
   "id": "ec71c33a",
   "metadata": {},
   "outputs": [],
   "source": [
    "# Initialize the Google gemini language model.\n",
    "model = ChatGoogleGenerativeAI(model='gemini-1.5-pro')"
   ]
  },
  {
   "cell_type": "code",
   "execution_count": null,
   "id": "3681e267",
   "metadata": {},
   "outputs": [],
   "source": [
    "# Invoke the language model with a specific prompt.\n",
    "# The prompt asks the model to generate a 5-line poem on the topic of NFL.\n",
    "# The 'invoke' method sends this request to the OpenAI model.\n",
    "result = model.invoke(\"Write a 5 line poem on NFL\")"
   ]
  },
  {
   "cell_type": "code",
   "execution_count": null,
   "id": "e26f78bd",
   "metadata": {},
   "outputs": [
    {
     "name": "stdout",
     "output_type": "stream",
     "text": [
      "Giants clash on Sunday's stage,\n",
      "Helmets ring, a gridiron rage.\n",
      "Spirals fly, a touchdown dream,\n",
      "Cheers erupt, a winning team.\n",
      "Glory sought, the NFL gleam. \n"
     ]
    }
   ],
   "source": [
    "# Print the content of the result.\n",
    "# The 'invoke' method for ChatGoogleGenerativeAI returns a ChatMessage object,\n",
    "# and the actual generated text is accessed via its '.content' attribute.\n",
    "print(result.content)"
   ]
  }
 ],
 "metadata": {
  "kernelspec": {
   "display_name": "venv",
   "language": "python",
   "name": "python3"
  },
  "language_info": {
   "codemirror_mode": {
    "name": "ipython",
    "version": 3
   },
   "file_extension": ".py",
   "mimetype": "text/x-python",
   "name": "python",
   "nbconvert_exporter": "python",
   "pygments_lexer": "ipython3",
   "version": "3.13.5"
  }
 },
 "nbformat": 4,
 "nbformat_minor": 5
}
