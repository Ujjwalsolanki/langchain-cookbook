{
 "cells": [
  {
   "cell_type": "code",
   "execution_count": 1,
   "id": "50e65465",
   "metadata": {},
   "outputs": [
    {
     "data": {
      "text/plain": [
       "True"
      ]
     },
     "execution_count": 1,
     "metadata": {},
     "output_type": "execute_result"
    }
   ],
   "source": [
    "from langchain_openai import ChatOpenAI\n",
    "from dotenv import load_dotenv\n",
    "from typing import TypedDict, Annotated, Optional, Literal # These are imported but not directly used for schema definition in this specific example\n",
    "from pydantic import BaseModel, Field # These are imported but not directly used for schema definition in this specific example\n",
    "\n",
    "# Load environment variables from a .env file.\n",
    "# This securely loads API keys (like OPENAI_API_KEY) from an environment file,\n",
    "# keeping sensitive information out of the main codebase.\n",
    "load_dotenv()"
   ]
  },
  {
   "cell_type": "code",
   "execution_count": 2,
   "id": "258ae6fb",
   "metadata": {},
   "outputs": [],
   "source": [
    "# Initialize the ChatOpenAI language model.\n",
    "# This creates an instance of the OpenAI chat model (e.g., gpt-3.5-turbo or gpt-4,\n",
    "# depending on your environment configuration and OpenAI setup). This model will\n",
    "# be used to process text and extract structured information.\n",
    "model = ChatOpenAI()"
   ]
  },
  {
   "cell_type": "code",
   "execution_count": 3,
   "id": "fcd3cd75",
   "metadata": {},
   "outputs": [],
   "source": [
    "# Define the schema for the desired structured output directly as a JSON Schema dictionary.\n",
    "# This is an alternative to defining a Python class (like Pydantic BaseModel or TypedDict).\n",
    "# The JSON Schema specifies the expected keys, their types, descriptions, and constraints.\n",
    "# - \"title\": A descriptive name for the schema.\n",
    "# - \"type\": \"object\" indicates the top-level structure is a JSON object.\n",
    "# - \"properties\": Defines the individual fields (keys) and their respective schemas.\n",
    "#   - \"key_themes\": An array of strings with a description.\n",
    "#   - \"summary\": A string with a description.\n",
    "#   - \"sentiment\": A string that must be one of \"pos\" or \"neg\" (\"enum\").\n",
    "#   - \"pros\", \"cons\", \"name\": Can be an array of strings/string or null (\"type\": [\"array\", \"null\"]).\n",
    "# - \"required\": Lists the fields that *must* be present in the output.\n",
    "json_schema = {\n",
    "  \"title\": \"Review\",\n",
    "  \"type\": \"object\",\n",
    "  \"properties\": {\n",
    "    \"key_themes\": {\n",
    "      \"type\": \"array\",\n",
    "      \"items\": {\n",
    "        \"type\": \"string\"\n",
    "      },\n",
    "      \"description\": \"Write down all the key themes discussed in the review in a list\"\n",
    "    },\n",
    "    \"summary\": {\n",
    "      \"type\": \"string\",\n",
    "      \"description\": \"A brief summary of the review\"\n",
    "    },\n",
    "    \"sentiment\": {\n",
    "      \"type\": \"string\",\n",
    "      \"enum\": [\"pos\", \"neg\"], # Note: The description says \"negative, positive or neutral\" but enum only allows \"pos\" or \"neg\". The model will try to pick from the enum values.\n",
    "      \"description\": \"Return sentiment of the review either negative, positive or neutral\"\n",
    "    },\n",
    "    \"pros\": {\n",
    "      \"type\": [\"array\", \"null\"], # Allows 'pros' to be either an array of strings or null\n",
    "      \"items\": {\n",
    "        \"type\": \"string\"\n",
    "      },\n",
    "      \"description\": \"Write down all the pros inside a list\"\n",
    "    },\n",
    "    \"cons\": {\n",
    "      \"type\": [\"array\", \"null\"], # Allows 'cons' to be either an array of strings or null\n",
    "      \"items\": {\n",
    "        \"type\": \"string\"\n",
    "      },\n",
    "      \"description\": \"Write down all the cons inside a list\"\n",
    "    },\n",
    "    \"name\": {\n",
    "      \"type\": [\"string\", \"null\"], # Allows 'name' to be either a string or null\n",
    "      \"description\": \"Write the name of the reviewer\"\n",
    "    }\n",
    "  },\n",
    "  \"required\": [\"key_themes\", \"summary\", \"sentiment\"] # These fields must be present in the output\n",
    "}"
   ]
  },
  {
   "cell_type": "code",
   "execution_count": 4,
   "id": "eb680e96",
   "metadata": {},
   "outputs": [
    {
     "name": "stderr",
     "output_type": "stream",
     "text": [
      "d:\\Projects\\langchain-cookbook\\venv\\Lib\\site-packages\\langchain_openai\\chat_models\\base.py:1857: UserWarning: Cannot use method='json_schema' with model gpt-3.5-turbo since it doesn't support OpenAI's Structured Output API. You can see supported models here: https://platform.openai.com/docs/guides/structured-outputs#supported-models. To fix this warning, set `method='function_calling'. Overriding to method='function_calling'.\n",
      "  warnings.warn(\n"
     ]
    }
   ],
   "source": [
    "# Create a structured output model from the base ChatOpenAI model using the JSON Schema. 🛠️\n",
    "# The 'with_structured_output' method instructs the LLM to generate its response\n",
    "# according to the provided schema. When a raw JSON schema dictionary is passed,\n",
    "# the output of the structured_model.invoke() call will be a standard Python dictionary\n",
    "# that conforms to this schema.\n",
    "structured_model = model.with_structured_output(json_schema)"
   ]
  },
  {
   "cell_type": "code",
   "execution_count": 5,
   "id": "755522ca",
   "metadata": {},
   "outputs": [
    {
     "name": "stdout",
     "output_type": "stream",
     "text": [
      "{'key_themes': ['sound quality', 'comfortable fit', 'battery life', 'touch controls', 'charging case'], 'summary': 'Mixed bag with impressive sound quality, comfortable fit, and good battery life but finicky touch controls and bulky charging case.', 'sentiment': 'pos', 'pros': ['Excellent sound quality', 'Comfortable fit', 'Good battery life'], 'cons': ['Finicky touch controls', 'Bulky charging case'], 'name': 'Ujjwal Solanki'}\n"
     ]
    }
   ],
   "source": [
    "# Invoke the structured model with the review text.\n",
    "# The model will process the input text and extract information,\n",
    "# attempting to fit it into the structure defined by 'json_schema'.\n",
    "result = structured_model.invoke(\"\"\"I recently got the Solanki True Wireless Earbuds, and they've been a mixed bag. The sound quality is genuinely impressive, offering crisp highs and decent bass for their size, and they fit surprisingly comfortably in my ears for long listening sessions. The battery life is also solid, easily getting me through a workday.\n",
    "However, the touch controls are incredibly finicky, often registering accidental taps or failing to respond. The charging case is also a bit bulkier than I'd like, making it less pocket-friendly.\n",
    "\n",
    "Pros:\n",
    "\n",
    "Excellent sound quality\n",
    "Comfortable fit\n",
    "Good battery life\n",
    "\n",
    "Review by Ujjwal Solanki\n",
    "\"\"\")\n",
    "\n",
    "# Print the entire structured result.\n",
    "# The 'result' object will be a Python dictionary, where the keys and values\n",
    "# adhere to the structure and types defined in the 'json_schema'.\n",
    "print(result)"
   ]
  }
 ],
 "metadata": {
  "kernelspec": {
   "display_name": "venv",
   "language": "python",
   "name": "python3"
  },
  "language_info": {
   "codemirror_mode": {
    "name": "ipython",
    "version": 3
   },
   "file_extension": ".py",
   "mimetype": "text/x-python",
   "name": "python",
   "nbconvert_exporter": "python",
   "pygments_lexer": "ipython3",
   "version": "3.13.5"
  }
 },
 "nbformat": 4,
 "nbformat_minor": 5
}
