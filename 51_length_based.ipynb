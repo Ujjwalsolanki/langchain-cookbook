{
 "cells": [
  {
   "cell_type": "code",
   "execution_count": 1,
   "id": "baf07c1f",
   "metadata": {},
   "outputs": [],
   "source": [
    "from langchain.text_splitter import CharacterTextSplitter # For splitting text by character\n",
    "from langchain_community.document_loaders import PyPDFLoader # For loading PDF documents"
   ]
  },
  {
   "cell_type": "code",
   "execution_count": 2,
   "id": "ff3a3917",
   "metadata": {},
   "outputs": [],
   "source": [
    "# Initialize the PyPDFLoader. 📄\n",
    "# This loader reads and parses the specified PDF file ('dl-curriculum.pdf').\n",
    "loader = PyPDFLoader('data\\\\46_MachineLearning.pdf')\n",
    "\n",
    "# Load the PDF document(s). 📚\n",
    "# The `loader.load()` method reads the entire PDF and returns a list of `Document` objects.\n",
    "# Each Document typically represents a page from the PDF.\n",
    "docs = loader.load()"
   ]
  },
  {
   "cell_type": "code",
   "execution_count": 3,
   "id": "9fd75481",
   "metadata": {},
   "outputs": [],
   "source": [
    "# Initialize the CharacterTextSplitter. ✂️\n",
    "# This splitter breaks down text into chunks based on characters.\n",
    "splitter = CharacterTextSplitter(\n",
    "    chunk_size=200,   # The maximum size of each text chunk (in characters).\n",
    "                      # The splitter will try to make chunks of roughly 200 characters.\n",
    "    chunk_overlap=0,  # The number of characters to overlap between consecutive chunks.\n",
    "                      # An overlap of 0 means chunks will be completely distinct with no shared text.\n",
    "                      # Overlap is often used to maintain context between chunks.\n",
    "    separator=''      # The character(s) used to split the text.\n",
    "                      # An empty string means it will try to split by characters, but if the chunk_size\n",
    "                      # is hit, it will simply cut the text. If you provide something like \"\\n\\n\",\n",
    "                      # it will prioritize splitting by double newlines, then single newlines, etc.\n",
    "                      # An empty string is often the fallback when no other separator works.\n",
    ")"
   ]
  },
  {
   "cell_type": "code",
   "execution_count": 4,
   "id": "d691ce84",
   "metadata": {},
   "outputs": [],
   "source": [
    "# Split the loaded documents into smaller chunks. 📝\n",
    "# The `splitter.split_documents(docs)` method takes the list of Document objects\n",
    "# and applies the splitting logic to their `page_content`, returning a new list\n",
    "# of smaller Document objects (chunks).\n",
    "result = splitter.split_documents(docs)"
   ]
  },
  {
   "cell_type": "code",
   "execution_count": 5,
   "id": "9a8068cc",
   "metadata": {},
   "outputs": [
    {
     "name": "stdout",
     "output_type": "stream",
     "text": [
      "types: \n",
      "Supervised Learning, Unsupervised Learning, and Reinforcement Learning. Each category addresses \n",
      "different types of problems and utilizes distinct approaches to learning. \n",
      "Supervised Learning\n"
     ]
    }
   ],
   "source": [
    "# Print the content of the second generated chunk. 📊\n",
    "# `result[1]` accesses the second chunk in the list of all generated chunks.\n",
    "# `.page_content` retrieves the text content of that specific chunk.\n",
    "print(result[1].page_content)"
   ]
  },
  {
   "cell_type": "code",
   "execution_count": 6,
   "id": "dfd11193",
   "metadata": {},
   "outputs": [
    {
     "name": "stdout",
     "output_type": "stream",
     "text": [
      "Supervised learning involves training models on labeled datasets, where each input data point is paired with \n",
      "its correct output. The model learns to map inputs to outputs by identifying underlying\n"
     ]
    }
   ],
   "source": [
    "# Print the content of the second generated chunk. 📊\n",
    "# `result[2]` accesses the second chunk in the list of all generated chunks.\n",
    "# `.page_content` retrieves the text content of that specific chunk.\n",
    "print(result[2].page_content)"
   ]
  }
 ],
 "metadata": {
  "kernelspec": {
   "display_name": "venv",
   "language": "python",
   "name": "python3"
  },
  "language_info": {
   "codemirror_mode": {
    "name": "ipython",
    "version": 3
   },
   "file_extension": ".py",
   "mimetype": "text/x-python",
   "name": "python",
   "nbconvert_exporter": "python",
   "pygments_lexer": "ipython3",
   "version": "3.13.5"
  }
 },
 "nbformat": 4,
 "nbformat_minor": 5
}
