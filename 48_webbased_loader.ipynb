{
 "cells": [
  {
   "cell_type": "code",
   "execution_count": 1,
   "id": "99f05b0d",
   "metadata": {},
   "outputs": [
    {
     "name": "stderr",
     "output_type": "stream",
     "text": [
      "USER_AGENT environment variable not set, consider setting it to identify your requests.\n"
     ]
    }
   ],
   "source": [
    "from langchain_community.document_loaders import WebBaseLoader # For loading web page content\n",
    "from langchain_openai import ChatOpenAI # For interacting with OpenAI chat models\n",
    "from langchain_core.output_parsers import StrOutputParser # For parsing LLM output to a string\n",
    "from langchain_core.prompts import PromptTemplate # For creating reusable prompt structures\n",
    "from dotenv import load_dotenv # For loading environment variables\n",
    "\n",
    "# Load environment variables from a .env file. 🌍\n",
    "# This is important for securely loading your API keys (like OPENAI_API_KEY)\n",
    "# so they are not directly visible in your script.\n",
    "load_dotenv()\n",
    "\n",
    "# Initialize the ChatOpenAI language model. 🤖\n",
    "# This creates an instance of the OpenAI chat model (e.g., gpt-3.5-turbo or gpt-4).\n",
    "# This model will be used to answer the question based on the loaded web page content.\n",
    "model = ChatOpenAI()"
   ]
  },
  {
   "cell_type": "code",
   "execution_count": 2,
   "id": "30556075",
   "metadata": {},
   "outputs": [],
   "source": [
    "# Define the PromptTemplate for question answering. 📝\n",
    "# This template takes two input variables: 'question' (the query) and 'text' (the context).\n",
    "# It instructs the LLM to answer the question using only the provided text.\n",
    "prompt = PromptTemplate(\n",
    "    template='Answer the following question \\n {question} from the following text - \\n {text}',\n",
    "    input_variables=['question','text']\n",
    ")"
   ]
  },
  {
   "cell_type": "code",
   "execution_count": 3,
   "id": "6bfe273a",
   "metadata": {},
   "outputs": [],
   "source": [
    "# Initialize a StrOutputParser. 📄\n",
    "# This parser is responsible for taking the raw output from the LLM (which is\n",
    "# typically a message object) and extracting its content as a simple string.\n",
    "# This makes the LLM's answer directly usable or printable.\n",
    "parser = StrOutputParser()"
   ]
  },
  {
   "cell_type": "code",
   "execution_count": 4,
   "id": "95f2c1ea",
   "metadata": {},
   "outputs": [],
   "source": [
    "# Define the URL of the web page to load. 🌐\n",
    "# This is a Amazon product page for an Hoka shoe.\n",
    "url = 'https://www.amazon.com/HOKA-ONE-Mens-Running-Shoes/dp/B0B54R2468'"
   ]
  },
  {
   "cell_type": "code",
   "execution_count": 5,
   "id": "86c13c8a",
   "metadata": {},
   "outputs": [],
   "source": [
    "# Initialize the WebBaseLoader with the specified URL. 🔗\n",
    "# This loader will fetch the content of the web page.\n",
    "loader = WebBaseLoader(url)"
   ]
  },
  {
   "cell_type": "code",
   "execution_count": 6,
   "id": "fc3a3c25",
   "metadata": {},
   "outputs": [],
   "source": [
    "# Load the content from the web page. 📚\n",
    "# The `loader.load()` method fetches the web page and returns a list of `Document` objects.\n",
    "# For web pages, this list typically contains one Document object with the page's main text content.\n",
    "docs = loader.load()"
   ]
  },
  {
   "cell_type": "code",
   "execution_count": 7,
   "id": "e5a716f3",
   "metadata": {},
   "outputs": [],
   "source": [
    "# Create a LangChain Expression Language (LCEL) chain. ⛓️\n",
    "# The `|` operator (pipe) connects components, where the output of one becomes the input for the next.\n",
    "# 1. `prompt`: Takes a dictionary with 'question' and 'text' as input and formats the prompt for the LLM.\n",
    "# 2. `model`: Receives the formatted prompt and generates an answer.\n",
    "# 3. `parser`: Extracts the raw string answer from the model's output.\n",
    "chain = prompt | model | parser"
   ]
  },
  {
   "cell_type": "code",
   "execution_count": 8,
   "id": "3f348e90",
   "metadata": {},
   "outputs": [
    {
     "name": "stdout",
     "output_type": "stream",
     "text": [
      "The product being discussed is the HOKA ONE ONE Bondi 8 Men's Shoes for road running.\n"
     ]
    }
   ],
   "source": [
    "# Invoke the chain with the specific question and the loaded web page content. 🚀\n",
    "# The `docs[0].page_content` accesses the main text content of the first (and likely only)\n",
    "# document loaded from the web page. This content serves as the 'text' context for the prompt.\n",
    "print(chain.invoke({'question':'What is the product that we are talking about?', 'text':docs[0].page_content}))"
   ]
  }
 ],
 "metadata": {
  "kernelspec": {
   "display_name": "venv",
   "language": "python",
   "name": "python3"
  },
  "language_info": {
   "codemirror_mode": {
    "name": "ipython",
    "version": 3
   },
   "file_extension": ".py",
   "mimetype": "text/x-python",
   "name": "python",
   "nbconvert_exporter": "python",
   "pygments_lexer": "ipython3",
   "version": "3.13.5"
  }
 },
 "nbformat": 4,
 "nbformat_minor": 5
}
