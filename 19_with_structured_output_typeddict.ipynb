{
 "cells": [
  {
   "cell_type": "code",
   "execution_count": 1,
   "id": "3d1fa4dc",
   "metadata": {},
   "outputs": [],
   "source": [
    "from langchain_openai import ChatOpenAI\n",
    "from dotenv import load_dotenv\n",
    "from typing import TypedDict, Annotated, Optional, Literal"
   ]
  },
  {
   "cell_type": "markdown",
   "id": "9352fb84",
   "metadata": {},
   "source": [
    "* **`Annotated`**: Adds **contextual metadata or descriptions** to a type hint, helping tools (like LangChain) better understand the intended purpose or constraints of a field.\n",
    "* **`Optional`**: Indicates that a variable or field **can either have the specified type or be `None`**, making it nullable.\n",
    "* **`Literal`**: Restricts a type's possible values to a **finite, predefined set of specific literal values** (e.g., only \"red\", \"green\", or \"blue\" for a string)."
   ]
  },
  {
   "cell_type": "code",
   "execution_count": 2,
   "id": "adbf196f",
   "metadata": {},
   "outputs": [
    {
     "data": {
      "text/plain": [
       "True"
      ]
     },
     "execution_count": 2,
     "metadata": {},
     "output_type": "execute_result"
    }
   ],
   "source": [
    "# Load environment variables from a .env file. 🌍\n",
    "# This securely loads API keys (like OPENAI_API_KEY) from a .env file,\n",
    "# preventing them from being hardcoded in the script.\n",
    "load_dotenv()"
   ]
  },
  {
   "cell_type": "code",
   "execution_count": 3,
   "id": "09abb20d",
   "metadata": {},
   "outputs": [],
   "source": [
    "# Initialize the ChatOpenAI language model. 🤖\n",
    "# This creates an instance of the OpenAI chat model (e.g., gpt-3.5-turbo or gpt-4\n",
    "# if specified). This model will be used to process the text and extract structured information.\n",
    "model = ChatOpenAI()"
   ]
  },
  {
   "cell_type": "code",
   "execution_count": 4,
   "id": "3f4689a2",
   "metadata": {},
   "outputs": [],
   "source": [
    "# Define the schema for the desired structured output using TypedDict. 📝\n",
    "# This class acts as a blueprint for the JSON object we want the LLM to return.\n",
    "# - TypedDict: Specifies that Review is a dictionary type with fixed keys and types.\n",
    "# - Annotated: Provides extra metadata (like a description string) for each field.\n",
    "#              This description is crucial as LangChain (and underlying LLMs) uses\n",
    "#              it to understand what kind of data to extract for each field.\n",
    "# - Optional: Indicates that a field might not always be present in the output.\n",
    "# - Literal: Restricts the value of 'sentiment' to only \"pos\" (positive) or \"neg\" (negative).\n",
    "class Review(TypedDict):\n",
    "    # 'key_themes' will be a list of strings, with a clear description for the LLM.\n",
    "    key_themes: Annotated[list[str], \"Write down all the key themes discussed in the review in a list\"]\n",
    "    # 'summary' will be a string containing a brief summary.\n",
    "    summary: Annotated[str, \"A brief summary of the review\"]\n",
    "    # 'sentiment' must be either \"pos\" or \"neg\", with an explanation for the LLM.\n",
    "    sentiment: Annotated[Literal[\"pos\", \"neg\"], \"Return sentiment of the review either negative, positive or neutral\"] # Note: The prompt asks for \"neutral\" but Literal only allows \"pos\" or \"neg\". The LLM will likely pick the closest.\n",
    "    # 'pros' is an optional list of strings.\n",
    "    pros: Annotated[Optional[list[str]], \"Write down all the pros inside a list\"]\n",
    "    # 'cons' is an optional list of strings.\n",
    "    cons: Annotated[Optional[list[str]], \"Write down all the cons inside a list\"]\n",
    "    # 'name' is an optional string for the reviewer's name.\n",
    "    name: Annotated[Optional[str], \"Write the name of the reviewer\"]"
   ]
  },
  {
   "cell_type": "code",
   "execution_count": 5,
   "id": "738e2093",
   "metadata": {},
   "outputs": [
    {
     "name": "stderr",
     "output_type": "stream",
     "text": [
      "d:\\Projects\\langchain-cookbook\\venv\\Lib\\site-packages\\langchain_openai\\chat_models\\base.py:1857: UserWarning: Cannot use method='json_schema' with model gpt-3.5-turbo since it doesn't support OpenAI's Structured Output API. You can see supported models here: https://platform.openai.com/docs/guides/structured-outputs#supported-models. To fix this warning, set `method='function_calling'. Overriding to method='function_calling'.\n",
      "  warnings.warn(\n"
     ]
    }
   ],
   "source": [
    "# Create a structured output model from the base ChatOpenAI model. 🛠️\n",
    "# The 'with_structured_output' method transforms the LLM into one that aims to\n",
    "# return responses conforming to the provided 'Review' TypedDict schema.\n",
    "# LangChain internally converts the TypedDict (with Annotations) into a JSON Schema\n",
    "# and instructs the OpenAI model to generate output that adheres to it.\n",
    "structured_model = model.with_structured_output(Review)"
   ]
  },
  {
   "cell_type": "code",
   "execution_count": 6,
   "id": "21b6b3e8",
   "metadata": {},
   "outputs": [
    {
     "name": "stdout",
     "output_type": "stream",
     "text": [
      "Ujjwal Solanki\n"
     ]
    }
   ],
   "source": [
    "# Invoke the structured model with the review text. 💬\n",
    "# The model will process this text and attempt to extract information\n",
    "# into the fields defined in the 'Review' schema.\n",
    "result = structured_model.invoke(\"\"\"I recently got the Solanki True Wireless Earbuds, and they've been a mixed bag. The sound quality is genuinely impressive, offering crisp highs and decent bass for their size, and they fit surprisingly comfortably in my ears for long listening sessions. The battery life is also solid, easily getting me through a workday.\n",
    "However, the touch controls are incredibly finicky, often registering accidental taps or failing to respond. The charging case is also a bit bulkier than I'd like, making it less pocket-friendly.\n",
    "\n",
    "Pros:\n",
    "\n",
    "Excellent sound quality\n",
    "Comfortable fit\n",
    "Good battery life\n",
    "\n",
    "Review by Ujjwal Solanki\n",
    "\"\"\")\n",
    "\n",
    "# Print the extracted 'name' field from the structured result. 🎯\n",
    "# The 'result' object will be a dictionary conforming to the 'Review' schema.\n",
    "# You can access its fields like a regular Python dictionary.\n",
    "print(result['name'])"
   ]
  }
 ],
 "metadata": {
  "kernelspec": {
   "display_name": "venv",
   "language": "python",
   "name": "python3"
  },
  "language_info": {
   "codemirror_mode": {
    "name": "ipython",
    "version": 3
   },
   "file_extension": ".py",
   "mimetype": "text/x-python",
   "name": "python",
   "nbconvert_exporter": "python",
   "pygments_lexer": "ipython3",
   "version": "3.13.5"
  }
 },
 "nbformat": 4,
 "nbformat_minor": 5
}
