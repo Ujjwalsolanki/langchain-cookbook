{
 "cells": [
  {
   "cell_type": "code",
   "execution_count": 1,
   "id": "bf85f53f",
   "metadata": {},
   "outputs": [],
   "source": [
    "from pydantic import BaseModel, EmailStr, Field\n",
    "from typing import Optional"
   ]
  },
  {
   "cell_type": "code",
   "execution_count": 2,
   "id": "a8d58233",
   "metadata": {},
   "outputs": [],
   "source": [
    "# Define a Pydantic model named 'Student'.\n",
    "# BaseModel is the core class for Pydantic models. It allows you to define data\n",
    "# schemas with type hints, default values, and validation rules.\n",
    "class Student(BaseModel):\n",
    "    # 'name': A required string field with a default value of 'Ujjwal'.\n",
    "    name: str = 'Ujjwal'\n",
    "    # 'age': An optional integer field. 'Optional[int]' means it can be an int or None.\n",
    "    # Pydantic will attempt to coerce string inputs to int if possible.\n",
    "    age: Optional[int] = None\n",
    "    # 'email': A required field that must be a valid email string (validated by EmailStr).\n",
    "    email: EmailStr\n",
    "    # 'cgpa': A float field with specific validation rules.\n",
    "    # - Field(gt=0, lt=10): Specifies that the value must be greater than 0 and less than 10.\n",
    "    # - default=5: Sets a default value of 5 if not provided.\n",
    "    # - description: Provides a helpful description for documentation (e.g., in generated JSON Schema).\n",
    "    cgpa: float = Field(gt=0, lt=10, default=5, description='A decimal value representing the cgpa of the student')"
   ]
  },
  {
   "cell_type": "code",
   "execution_count": 3,
   "id": "c3135a36",
   "metadata": {},
   "outputs": [],
   "source": [
    "# Create a dictionary representing new student data.\n",
    "# Notice that 'age' is provided as a string '32'. Pydantic is capable of\n",
    "# coercing basic types like strings to integers if the conversion is valid.\n",
    "new_student = {'age':'34', 'email':'US@gmail.com'}"
   ]
  },
  {
   "cell_type": "code",
   "execution_count": 4,
   "id": "efab2e0e",
   "metadata": {},
   "outputs": [],
   "source": [
    "# Create a 'Student' model instance from the dictionary.\n",
    "# Pydantic automatically validates and populates the model fields from the dictionary.\n",
    "# - If 'name' or 'cgpa' were missing, their default values ('nitish', 5) would be used.\n",
    "# - 'email' is validated to ensure it's a correct email format.\n",
    "# - 'age' (as '32' string) will be coerced to an integer 32.\n",
    "student = Student(**new_student)"
   ]
  },
  {
   "cell_type": "code",
   "execution_count": 5,
   "id": "049dd7ac",
   "metadata": {},
   "outputs": [],
   "source": [
    "# Convert the Pydantic model instance to a standard Python dictionary.\n",
    "# This flattens the Pydantic object back into a regular dictionary,\n",
    "# including all default values and coerced types.\n",
    "student_dict = dict(student)"
   ]
  },
  {
   "cell_type": "code",
   "execution_count": 6,
   "id": "bdbdcd4f",
   "metadata": {},
   "outputs": [
    {
     "name": "stdout",
     "output_type": "stream",
     "text": [
      "34\n"
     ]
    }
   ],
   "source": [
    "# Print the 'age' value from the converted dictionary.\n",
    "# This will output the integer 32, demonstrating Pydantic's type coercion.\n",
    "print(student_dict['age'])"
   ]
  },
  {
   "cell_type": "code",
   "execution_count": 7,
   "id": "4bff6112",
   "metadata": {},
   "outputs": [
    {
     "name": "stdout",
     "output_type": "stream",
     "text": [
      "{\"name\":\"Ujjwal\",\"age\":34,\"email\":\"US@gmail.com\",\"cgpa\":5.0}\n"
     ]
    }
   ],
   "source": [
    "# Convert the Pydantic model instance to a JSON string. ➡️📄\n",
    "# 'model_dump_json()' serializes the model's data into a JSON formatted string.\n",
    "# This result is generated but not printed in the provided code snippet.\n",
    "student_json = student.model_dump_json()\n",
    "print(student_json)  # Print the JSON string for inspection."
   ]
  }
 ],
 "metadata": {
  "kernelspec": {
   "display_name": "venv",
   "language": "python",
   "name": "python3"
  },
  "language_info": {
   "codemirror_mode": {
    "name": "ipython",
    "version": 3
   },
   "file_extension": ".py",
   "mimetype": "text/x-python",
   "name": "python",
   "nbconvert_exporter": "python",
   "pygments_lexer": "ipython3",
   "version": "3.13.5"
  }
 },
 "nbformat": 4,
 "nbformat_minor": 5
}
