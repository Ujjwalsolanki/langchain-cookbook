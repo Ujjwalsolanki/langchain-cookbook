{
 "cells": [
  {
   "cell_type": "code",
   "execution_count": 1,
   "id": "23a9b398",
   "metadata": {},
   "outputs": [],
   "source": [
    "from langchain.text_splitter import RecursiveCharacterTextSplitter # Import the specific text splitter"
   ]
  },
  {
   "cell_type": "code",
   "execution_count": 2,
   "id": "d6cf2540",
   "metadata": {},
   "outputs": [],
   "source": [
    "# Define the input text to be split. 📄\n",
    "# This is a multi-paragraph string about space exploration and its benefits.\n",
    "text = \"\"\"\n",
    "Space exploration has led to incredible scientific discoveries. From landing on the Moon to exploring Mars, humanity continues to push the boundaries of what’s possible beyond our planet.\n",
    "\n",
    "These missions have not only expanded our knowledge of the universe but have also contributed to advancements in technology here on Earth. Satellite communications, GPS, and even certain medical imaging techniques trace their roots back to innovations driven by space programs.\n",
    "\"\"\""
   ]
  },
  {
   "cell_type": "code",
   "execution_count": 3,
   "id": "869ead52",
   "metadata": {},
   "outputs": [],
   "source": [
    "# Initialize the RecursiveCharacterTextSplitter. ✂️\n",
    "# This is a sophisticated text splitter that attempts to split text using a list of characters\n",
    "# recursively, trying to keep semantically related pieces of text together.\n",
    "splitter = RecursiveCharacterTextSplitter(\n",
    "    chunk_size=500,  # The maximum size of each text chunk (in characters).\n",
    "                     # The splitter will aim for chunks of up to 500 characters.\n",
    "    chunk_overlap=0, # The number of characters to overlap between consecutive chunks.\n",
    "                     # An overlap of 0 means chunks will be completely distinct.\n",
    "                     # A non-zero overlap helps maintain context across chunk boundaries.\n",
    ")"
   ]
  },
  {
   "cell_type": "code",
   "execution_count": 4,
   "id": "8d03001f",
   "metadata": {},
   "outputs": [],
   "source": [
    "# Perform the text splitting. 📝\n",
    "# The `splitter.split_text(text)` method takes the input string and\n",
    "# applies the recursive splitting logic, returning a list of smaller text strings (chunks).\n",
    "chunks = splitter.split_text(text)"
   ]
  },
  {
   "cell_type": "code",
   "execution_count": 5,
   "id": "d22127ab",
   "metadata": {},
   "outputs": [
    {
     "name": "stdout",
     "output_type": "stream",
     "text": [
      "1\n"
     ]
    }
   ],
   "source": [
    "# Print the number of chunks created. 📏\n",
    "# This shows how many segments the original text was divided into.\n",
    "print(len(chunks))"
   ]
  },
  {
   "cell_type": "code",
   "execution_count": 6,
   "id": "7b7845dc",
   "metadata": {},
   "outputs": [
    {
     "name": "stdout",
     "output_type": "stream",
     "text": [
      "['Space exploration has led to incredible scientific discoveries. From landing on the Moon to exploring Mars, humanity continues to push the boundaries of what’s possible beyond our planet.\\n\\nThese missions have not only expanded our knowledge of the universe but have also contributed to advancements in technology here on Earth. Satellite communications, GPS, and even certain medical imaging techniques trace their roots back to innovations driven by space programs.']\n"
     ]
    }
   ],
   "source": [
    "# Print the actual content of each created chunk. 📊\n",
    "# This will display each smaller piece of the original text.\n",
    "print(chunks)"
   ]
  }
 ],
 "metadata": {
  "kernelspec": {
   "display_name": "venv",
   "language": "python",
   "name": "python3"
  },
  "language_info": {
   "codemirror_mode": {
    "name": "ipython",
    "version": 3
   },
   "file_extension": ".py",
   "mimetype": "text/x-python",
   "name": "python",
   "nbconvert_exporter": "python",
   "pygments_lexer": "ipython3",
   "version": "3.13.5"
  }
 },
 "nbformat": 4,
 "nbformat_minor": 5
}
