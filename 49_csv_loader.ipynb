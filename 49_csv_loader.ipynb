{
 "cells": [
  {
   "cell_type": "code",
   "execution_count": 1,
   "id": "222c58d9",
   "metadata": {},
   "outputs": [
    {
     "name": "stdout",
     "output_type": "stream",
     "text": [
      "400\n",
      "page_content='User ID: 15810944\n",
      "Gender: Male\n",
      "Age: 35\n",
      "EstimatedSalary: 20000\n",
      "Purchased: 0' metadata={'source': 'data\\\\49_Social_Network_Ads.csv', 'row': 1}\n"
     ]
    }
   ],
   "source": [
    "from langchain_community.document_loaders import CSVLoader # Import the CSV loader\n",
    "\n",
    "# Initialize the CSVLoader. 📊\n",
    "# This loader is designed to read and parse CSV (Comma Separated Values) files.\n",
    "# It takes the 'file_path' to your CSV file ('Social_Network_Ads.csv' in this case) as an argument.\n",
    "# Ensure you have this CSV file in the same directory as your script, or provide the full path to it.\n",
    "loader = CSVLoader(file_path='data\\\\49_Social_Network_Ads.csv')\n",
    "\n",
    "# Load the CSV data. 📚\n",
    "# The `loader.load()` method reads the entire CSV file.\n",
    "# It converts each row of the CSV into a separate LangChain `Document` object.\n",
    "# Each Document's `page_content` will contain the row's data as a string (e.g., \"User ID: ..., Gender: ...\").\n",
    "# The `metadata` will typically include the 'source' file path and 'row' index.\n",
    "docs = loader.load()\n",
    "\n",
    "# Print the number of documents (rows) loaded. 📏\n",
    "# This will show how many rows (excluding the header, if present and handled by the loader)\n",
    "# were successfully converted into Document objects from the CSV file.\n",
    "print(len(docs))\n",
    "\n",
    "# Print the second document (which corresponds to the second row of data in the CSV). 📜\n",
    "# `docs[1]` accesses the `Document` object for the second row (remember, Python lists are 0-indexed).\n",
    "# When a Document object is printed directly, it typically shows both its `page_content` and `metadata`.\n",
    "print(docs[1])"
   ]
  }
 ],
 "metadata": {
  "kernelspec": {
   "display_name": "venv",
   "language": "python",
   "name": "python3"
  },
  "language_info": {
   "codemirror_mode": {
    "name": "ipython",
    "version": 3
   },
   "file_extension": ".py",
   "mimetype": "text/x-python",
   "name": "python",
   "nbconvert_exporter": "python",
   "pygments_lexer": "ipython3",
   "version": "3.13.5"
  }
 },
 "nbformat": 4,
 "nbformat_minor": 5
}
