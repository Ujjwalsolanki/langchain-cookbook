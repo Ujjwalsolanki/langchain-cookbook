{
 "cells": [
  {
   "cell_type": "code",
   "execution_count": 1,
   "id": "19c178c0",
   "metadata": {},
   "outputs": [],
   "source": [
    "from langchain_huggingface import ChatHuggingFace, HuggingFaceEndpoint\n",
    "from dotenv import load_dotenv  "
   ]
  },
  {
   "cell_type": "code",
   "execution_count": 2,
   "id": "f07da543",
   "metadata": {},
   "outputs": [
    {
     "data": {
      "text/plain": [
       "True"
      ]
     },
     "execution_count": 2,
     "metadata": {},
     "output_type": "execute_result"
    }
   ],
   "source": [
    "# Load environment variables from a .env file.\n",
    "# This practice helps in securely managing API keys and other sensitive information\n",
    "# by keeping them out of the source code.\n",
    "load_dotenv()"
   ]
  },
  {
   "cell_type": "code",
   "execution_count": 3,
   "id": "71bd29b7",
   "metadata": {},
   "outputs": [
    {
     "name": "stderr",
     "output_type": "stream",
     "text": [
      "d:\\Projects\\langchain-cookbook\\venv\\Lib\\site-packages\\tqdm\\auto.py:21: TqdmWarning: IProgress not found. Please update jupyter and ipywidgets. See https://ipywidgets.readthedocs.io/en/stable/user_install.html\n",
      "  from .autonotebook import tqdm as notebook_tqdm\n"
     ]
    }
   ],
   "source": [
    "# Initialize the HuggingFaceEndpoint.\n",
    "# This component allows us to connect to models hosted on the Hugging Face Hub.\n",
    "# - 'repo_id': Specifies the exact model repository on Hugging Face Hub to use.\n",
    "#              \"TinyLlama/TinyLlama-1.1B-Chat-v1.0\" is a small, efficient chat model.\n",
    "# - 'task': Defines the task the model is intended for, in this case, \"text-generation\".\n",
    "llm = HuggingFaceEndpoint(\n",
    "    repo_id=\"TinyLlama/TinyLlama-1.1B-Chat-v1.0\",\n",
    "    task=\"text-generation\",\n",
    ")"
   ]
  },
  {
   "cell_type": "code",
   "execution_count": 4,
   "id": "c3320962",
   "metadata": {},
   "outputs": [],
   "source": [
    "### HF added featherless.ai as inference provider, I will research and update this code later.\n",
    "# Wrap the HuggingFaceEndpoint model with ChatHuggingFace.\n",
    "# ChatHuggingFace adapts the raw HuggingFace model (llm) to work with\n",
    "# LangChain's chat-oriented interfaces, making it easier to send and receive\n",
    "# chat messages.\n",
    "# model = ChatHuggingFace(llm=llm)"
   ]
  },
  {
   "cell_type": "code",
   "execution_count": 5,
   "id": "097b6a9c",
   "metadata": {},
   "outputs": [],
   "source": [
    "# Invoke the chat model with a prompt.\n",
    "# We are asking a factual question: \"What is the capital of France\".\n",
    "# The 'invoke' method sends this prompt to the underlying Hugging Face model\n",
    "# via the ChatHuggingFace wrapper and awaits its response.\n",
    "# Since featherless.ai if inference provider, so we may use featherless.ai API key to make it work.\n",
    "# result = model.invoke(\"What is the capital of France\")"
   ]
  },
  {
   "cell_type": "code",
   "execution_count": 6,
   "id": "bd658517",
   "metadata": {},
   "outputs": [],
   "source": [
    "# Print the content of the model's response.\n",
    "# For chat models, the actual text response is typically contained within\n",
    "# the 'content' attribute of the returned message object.\n",
    "# print(result.content)"
   ]
  }
 ],
 "metadata": {
  "kernelspec": {
   "display_name": "venv",
   "language": "python",
   "name": "python3"
  },
  "language_info": {
   "codemirror_mode": {
    "name": "ipython",
    "version": 3
   },
   "file_extension": ".py",
   "mimetype": "text/x-python",
   "name": "python",
   "nbconvert_exporter": "python",
   "pygments_lexer": "ipython3",
   "version": "3.13.5"
  }
 },
 "nbformat": 4,
 "nbformat_minor": 5
}
