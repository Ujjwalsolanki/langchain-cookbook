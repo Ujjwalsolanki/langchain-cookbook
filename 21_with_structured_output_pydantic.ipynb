{
 "cells": [
  {
   "cell_type": "code",
   "execution_count": 1,
   "id": "14f0a923",
   "metadata": {},
   "outputs": [
    {
     "data": {
      "text/plain": [
       "True"
      ]
     },
     "execution_count": 1,
     "metadata": {},
     "output_type": "execute_result"
    }
   ],
   "source": [
    "from langchain_openai import ChatOpenAI\n",
    "from dotenv import load_dotenv\n",
    "from typing import Optional, Literal # Optional and Literal are from the 'typing' module\n",
    "from pydantic import BaseModel, Field # BaseModel and Field are from the 'pydantic' module\n",
    "\n",
    "# Load environment variables from a .env file. \n",
    "# This securely loads API keys (like OPENAI_API_KEY) from an environment file,\n",
    "# keeping sensitive information out of the main codebase.\n",
    "load_dotenv()"
   ]
  },
  {
   "cell_type": "code",
   "execution_count": 2,
   "id": "8acdbf4d",
   "metadata": {},
   "outputs": [],
   "source": [
    "# Initialize the ChatOpenAI language model. \n",
    "# This creates an instance of the OpenAI chat model (e.g., gpt-3.5-turbo or gpt-4,\n",
    "# depending on your environment configuration and OpenAI setup). This model will\n",
    "# be used to process text and extract structured information.\n",
    "model = ChatOpenAI()"
   ]
  },
  {
   "cell_type": "code",
   "execution_count": 3,
   "id": "feb312de",
   "metadata": {},
   "outputs": [],
   "source": [
    "# Define the schema for the desired structured output using Pydantic's BaseModel. \n",
    "# This class acts as a blueprint for the JSON object we want the LLM to return.\n",
    "# Pydantic models offer robust data validation, parsing, and serialization.\n",
    "class Review(BaseModel):\n",
    "    # 'key_themes': A list of strings. 'Field' provides a description for the LLM\n",
    "    # to understand what to extract for this field.\n",
    "    key_themes: list[str] = Field(description=\"Write down all the key themes discussed in the review in a list\")\n",
    "    # 'summary': A string containing a brief summary.\n",
    "    summary: str = Field(description=\"A brief summary of the review\")\n",
    "    # 'sentiment': A string that must be either \"pos\" (positive) or \"neg\" (negative).\n",
    "    # 'Literal' ensures the value is one of these exact strings.\n",
    "    # The 'Field' description guides the LLM on how to determine sentiment.\n",
    "    sentiment: Literal[\"pos\", \"neg\"] = Field(description=\"Return sentiment of the review either negative or positive\")\n",
    "    # 'pros': An optional list of strings. 'Optional' means it can be a list[str] or None.\n",
    "    # 'default=None' explicitly sets its default value if not provided by the LLM.\n",
    "    pros: Optional[list[str]] = Field(default=None, description=\"Write down all the pros inside a list\")\n",
    "    # 'cons': An optional list of strings, similar to 'pros'.\n",
    "    cons: Optional[list[str]] = Field(default=None, description=\"Write down all the cons inside a list\")\n",
    "    # 'name': An optional string for the reviewer's name.\n",
    "    name: Optional[str] = Field(default=None, description=\"Write the name of the reviewer\")"
   ]
  },
  {
   "cell_type": "code",
   "execution_count": 4,
   "id": "0ed6211f",
   "metadata": {},
   "outputs": [
    {
     "name": "stderr",
     "output_type": "stream",
     "text": [
      "d:\\Projects\\langchain-cookbook\\venv\\Lib\\site-packages\\langchain_openai\\chat_models\\base.py:1857: UserWarning: Cannot use method='json_schema' with model gpt-3.5-turbo since it doesn't support OpenAI's Structured Output API. You can see supported models here: https://platform.openai.com/docs/guides/structured-outputs#supported-models. To fix this warning, set `method='function_calling'. Overriding to method='function_calling'.\n",
      "  warnings.warn(\n"
     ]
    }
   ],
   "source": [
    "# Create a structured output model from the base ChatOpenAI model. \n",
    "# The 'with_structured_output' method transforms the LLM into one that is instructed\n",
    "# to return responses conforming to the provided 'Review' Pydantic BaseModel schema.\n",
    "# LangChain internally converts the Pydantic model into a JSON Schema, which\n",
    "# advanced LLMs (like newer OpenAI models) can use as a \"function call\" specification\n",
    "# to generate a JSON object matching the schema.\n",
    "structured_model = model.with_structured_output(Review)"
   ]
  },
  {
   "cell_type": "code",
   "execution_count": 5,
   "id": "f8188c3c",
   "metadata": {},
   "outputs": [],
   "source": [
    "# Invoke the structured model with the review text.\n",
    "# The model will process this text and attempt to extract information\n",
    "# into the fields defined in the 'Review' schema, returning a Pydantic object.\n",
    "result = structured_model.invoke(\"\"\"I recently got the Solanki True Wireless Earbuds, and they've been a mixed bag. The sound quality is genuinely impressive, offering crisp highs and decent bass for their size, and they fit surprisingly comfortably in my ears for long listening sessions. The battery life is also solid, easily getting me through a workday.\n",
    "However, the touch controls are incredibly finicky, often registering accidental taps or failing to respond. The charging case is also a bit bulkier than I'd like, making it less pocket-friendly.\n",
    "\n",
    "Pros:\n",
    "\n",
    "Excellent sound quality\n",
    "Comfortable fit\n",
    "Good battery life\n",
    "\n",
    "Review by Ujjwal Solanki\n",
    "\"\"\")"
   ]
  },
  {
   "cell_type": "code",
   "execution_count": 6,
   "id": "cda02add",
   "metadata": {},
   "outputs": [
    {
     "name": "stdout",
     "output_type": "stream",
     "text": [
      "key_themes=['sound quality', 'comfort', 'battery life', 'touch controls', 'charging case'] summary='The Solanki True Wireless Earbuds offer impressive sound quality, a comfortable fit, and good battery life. However, the touch controls are finicky and the charging case is bulkier than ideal.' sentiment='pos' pros=['Excellent sound quality', 'Comfortable fit', 'Good battery life'] cons=['Finicky touch controls', 'Bulky charging case'] name='Ujjwal Solanki'\n"
     ]
    }
   ],
   "source": [
    "# Print the entire Pydantic model instance. \n",
    "# The 'result' object is an instance of the 'Review' Pydantic model,\n",
    "# populated with the extracted data. When printed, it shows the field names\n",
    "# and their extracted values in a readable format.\n",
    "print(result)"
   ]
  }
 ],
 "metadata": {
  "kernelspec": {
   "display_name": "venv",
   "language": "python",
   "name": "python3"
  },
  "language_info": {
   "codemirror_mode": {
    "name": "ipython",
    "version": 3
   },
   "file_extension": ".py",
   "mimetype": "text/x-python",
   "name": "python",
   "nbconvert_exporter": "python",
   "pygments_lexer": "ipython3",
   "version": "3.13.5"
  }
 },
 "nbformat": 4,
 "nbformat_minor": 5
}
