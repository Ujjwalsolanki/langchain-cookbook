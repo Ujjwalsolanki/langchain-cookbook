{
 "cells": [
  {
   "cell_type": "code",
   "execution_count": 1,
   "id": "c1a7813d",
   "metadata": {},
   "outputs": [],
   "source": [
    "from langchain_community.document_loaders import PyPDFLoader # Import the PDF loader"
   ]
  },
  {
   "cell_type": "code",
   "execution_count": 2,
   "id": "556f3838",
   "metadata": {},
   "outputs": [],
   "source": [
    "# Initialize the PyPDFLoader. 📄\n",
    "# This loader is designed to read and parse PDF files.\n",
    "# It takes the path to your PDF file ('dl-curriculum.pdf' in this case) as an argument.\n",
    "loader = PyPDFLoader('data\\\\46_MachineLearning.pdf')"
   ]
  },
  {
   "cell_type": "code",
   "execution_count": 3,
   "id": "28c1dfde",
   "metadata": {},
   "outputs": [],
   "source": [
    "# Load the PDF document. 📚\n",
    "# The `loader.load()` method reads the entire PDF and returns a list of `Document` objects.\n",
    "# Each `Document` in the list typically represents a page from the PDF.\n",
    "docs = loader.load()"
   ]
  },
  {
   "cell_type": "code",
   "execution_count": 4,
   "id": "6c7a10a5",
   "metadata": {},
   "outputs": [
    {
     "name": "stdout",
     "output_type": "stream",
     "text": [
      "3\n"
     ]
    }
   ],
   "source": [
    "# Print the number of documents (pages) loaded. 📏\n",
    "# This will show how many pages are in the 'dl-curriculum.pdf' file.\n",
    "print(len(docs))"
   ]
  },
  {
   "cell_type": "code",
   "execution_count": 5,
   "id": "2ff78d1e",
   "metadata": {},
   "outputs": [
    {
     "name": "stdout",
     "output_type": "stream",
     "text": [
      "Machine learning (ML) models are algorithms that learn patterns from data to make predictions or decisions \n",
      "without being explicitly programmed. These models can be broadly categorized into three main types: \n",
      "Supervised Learning, Unsupervised Learning, and Reinforcement Learning. Each category addresses \n",
      "different types of problems and utilizes distinct approaches to learning. \n",
      "Supervised Learning \n",
      "Supervised learning involves training models on labeled datasets, where each input data point is paired with \n",
      "its correct output. The model learns to map inputs to outputs by identifying underlying relationships between \n",
      "them. Once trained, the model can predict outcomes for new, unseen data. Supervised learning tasks are \n",
      "generally divided into two main types: \n",
      "Classification \n",
      "Classification models predict a categorical output, assigning data points to specific classes or categories. \n",
      "• Logistic Regression: Despite its name, Logistic Regression is a classification algorithm used for binary \n",
      "outcomes (e.g., spam/not spam, yes/no). It estimates the probability of an instance belonging to a \n",
      "particular class using a sigmoid function. \n",
      "• K-Nearest Neighbors (KNN): A non-parametric, instance-based algorithm that classifies a new data \n",
      "point based on the majority class of its 'k' nearest neighbors in the training data. \n",
      "• Support Vector Machines (SVM): SVMs find the optimal hyperplane that best separates data points of \n",
      "different classes in a high-dimensional space, maximizing the margin between them. \n",
      "• Decision Trees: Tree-like models where each internal node represents a test on an attribute, each branch \n",
      "represents an outcome of the test, and each leaf node represents a class label. They are intuitive and \n",
      "easily interpretable. \n",
      "• Naive Bayes: A probabilistic classifier based on Bayes' theorem, assuming strong (naive) independence \n",
      "between features. It's often used in text classification and spam detection. \n",
      "Regression \n",
      "Regression models predict a continuous numerical output, estimating a value based on input features. \n",
      "• Linear Regression: One of the simplest regression models, it finds the best-fitting straight line (or \n",
      "hyperplane in higher dimensions) to represent the relationship between a dependent variable and one or \n",
      "more independent variables. \n",
      "• Polynomial Regression: An extension of linear regression that models the relationship between the \n",
      "independent variable and the dependent variable as an nth degree polynomial. \n",
      "• Ridge Regression: A regularized version of linear regression that adds a penalty term (L2 \n",
      "regularization) to the cost function to prevent overfitting by shrinking coefficients towards zero. \n",
      "• Lasso Regression: Another regularized linear regression method that adds an L1 penalty, which can \n",
      "lead to sparse models by forcing some coefficients to be exactly zero, effectively performing feature \n",
      "selection. \n",
      " \n",
      "Unsupervised Learning \n",
      "Unsupervised learning deals with unlabeled data, where the model seeks to discover hidden patterns, \n",
      "structures, or relationships within the data without any prior knowledge of output labels.\n"
     ]
    }
   ],
   "source": [
    "# Print the content of the first page. 📜\n",
    "# `docs[0]` accesses the first `Document` object (which is the first page of the PDF).\n",
    "# `.page_content` retrieves the extracted text from that page.\n",
    "print(docs[0].page_content)"
   ]
  },
  {
   "cell_type": "code",
   "execution_count": 6,
   "id": "ff3acc00",
   "metadata": {},
   "outputs": [
    {
     "name": "stdout",
     "output_type": "stream",
     "text": [
      "{'producer': 'Microsoft® Word LTSC', 'creator': 'Microsoft® Word LTSC', 'creationdate': '2025-07-22T17:19:48-04:00', 'author': 'Ujjwal Solanki', 'moddate': '2025-07-22T17:19:48-04:00', 'source': 'data\\\\46_MachineLearning.pdf', 'total_pages': 3, 'page': 1, 'page_label': '2'}\n"
     ]
    }
   ],
   "source": [
    "# Print the metadata of the second page. 🏷️\n",
    "# `docs[1]` accesses the second `Document` object (the second page).\n",
    "# `.metadata` retrieves a dictionary containing information about that specific page,\n",
    "# such as 'source' (the PDF file path) and 'page' (the page number, usually 0-indexed).\n",
    "print(docs[1].metadata)"
   ]
  }
 ],
 "metadata": {
  "kernelspec": {
   "display_name": "venv",
   "language": "python",
   "name": "python3"
  },
  "language_info": {
   "codemirror_mode": {
    "name": "ipython",
    "version": 3
   },
   "file_extension": ".py",
   "mimetype": "text/x-python",
   "name": "python",
   "nbconvert_exporter": "python",
   "pygments_lexer": "ipython3",
   "version": "3.13.5"
  }
 },
 "nbformat": 4,
 "nbformat_minor": 5
}
