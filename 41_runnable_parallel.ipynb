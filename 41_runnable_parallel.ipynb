{
 "cells": [
  {
   "cell_type": "code",
   "execution_count": 1,
   "id": "fab21163",
   "metadata": {},
   "outputs": [],
   "source": [
    "from langchain_openai import ChatOpenAI\n",
    "from langchain_core.prompts import PromptTemplate\n",
    "from langchain_core.output_parsers import StrOutputParser\n",
    "from dotenv import load_dotenv\n",
    "from langchain.schema.runnable import RunnableSequence, RunnableParallel # Core LCEL components\n",
    "\n",
    "# Load environment variables from a .env file. 🌍\n",
    "# This ensures your OpenAI API key is securely loaded from your system's environment variables.\n",
    "load_dotenv()\n",
    "\n",
    "# Initialize the ChatOpenAI language model. 🤖\n",
    "# This instance will be used by both the tweet generation and LinkedIn post generation branches.\n",
    "model = ChatOpenAI()\n",
    "\n",
    "# Initialize a StrOutputParser. 📄\n",
    "# This parser is used to extract the raw string content from the LLM's message output.\n",
    "# It ensures that the output passed between components is clean text.\n",
    "parser = StrOutputParser()"
   ]
  },
  {
   "cell_type": "code",
   "execution_count": 2,
   "id": "fdc4a149",
   "metadata": {},
   "outputs": [],
   "source": [
    "# Define PromptTemplate for generating a tweet. 📝\n",
    "# This template takes a `topic` and instructs the LLM to generate a tweet about it.\n",
    "prompt1 = PromptTemplate(\n",
    "    template='Generate a tweet about {topic}',\n",
    "    input_variables=['topic']\n",
    ")\n",
    "\n",
    "# Define PromptTemplate for generating a LinkedIn post. 📝\n",
    "# This template also takes a `topic` and instructs the LLM to generate a LinkedIn post.\n",
    "prompt2 = PromptTemplate(\n",
    "    template='Generate a Linkedin post about {topic}',\n",
    "    input_variables=['topic']\n",
    ")"
   ]
  },
  {
   "cell_type": "code",
   "execution_count": 3,
   "id": "7de1da8e",
   "metadata": {},
   "outputs": [],
   "source": [
    "# Create a `RunnableParallel` chain. 👯\n",
    "# `RunnableParallel` takes a dictionary where keys are the output names and values are LangChain Runnables.\n",
    "# When `parallel_chain` is invoked, all the runnables defined as its values execute **concurrently**,\n",
    "# each receiving the *same input* as the `parallel_chain` itself.\n",
    "#\n",
    "# In this case:\n",
    "# - 'tweet': This branch defines a `RunnableSequence` (prompt1 -> model -> parser) to generate a tweet.\n",
    "# - 'linkedin': This branch defines another `RunnableSequence` (prompt2 -> model -> parser) to generate a LinkedIn post.\n",
    "# Both branches receive `{'topic': 'AI'}` as input simultaneously.\n",
    "parallel_chain = RunnableParallel({\n",
    "    'linkedin': RunnableSequence(prompt2, model, parser),\n",
    "    'tweet': RunnableSequence(prompt1, model, parser)\n",
    "})"
   ]
  },
  {
   "cell_type": "code",
   "execution_count": 4,
   "id": "a0dc067f",
   "metadata": {},
   "outputs": [],
   "source": [
    "# Invoke the `parallel_chain` with the topic. 🚀\n",
    "# The `invoke` call triggers both the 'tweet' and 'linkedin' branches to run at the same time.\n",
    "# The `result` will be a dictionary with keys 'tweet' and 'linkedin',\n",
    "# containing the generated content from each branch.\n",
    "result = parallel_chain.invoke({'topic':'AI'})"
   ]
  },
  {
   "cell_type": "code",
   "execution_count": 5,
   "id": "c0775806",
   "metadata": {},
   "outputs": [
    {
     "name": "stdout",
     "output_type": "stream",
     "text": [
      "\"AI continues to revolutionize industries with its ability to analyze data and make predictions at lightning speed. Exciting to see how the future will be shaped by artificial intelligence! 🤖 #AI #technology #innovation\"\n"
     ]
    }
   ],
   "source": [
    "# Print the generated tweet. 📊\n",
    "print(result['tweet'])"
   ]
  },
  {
   "cell_type": "code",
   "execution_count": 6,
   "id": "2b64a9bd",
   "metadata": {},
   "outputs": [
    {
     "name": "stdout",
     "output_type": "stream",
     "text": [
      "Exciting news in the world of AI! The advancements in artificial intelligence continue to amaze and transform industries. From healthcare to finance, AI is revolutionizing the way we work and live. Stay tuned for more updates on how AI is shaping the future. #artificialintelligence #AI #technologyinnovation\n"
     ]
    }
   ],
   "source": [
    "# Print the generated LinkedIn post. 📊\n",
    "print(result['linkedin'])"
   ]
  }
 ],
 "metadata": {
  "kernelspec": {
   "display_name": "venv",
   "language": "python",
   "name": "python3"
  },
  "language_info": {
   "codemirror_mode": {
    "name": "ipython",
    "version": 3
   },
   "file_extension": ".py",
   "mimetype": "text/x-python",
   "name": "python",
   "nbconvert_exporter": "python",
   "pygments_lexer": "ipython3",
   "version": "3.13.5"
  }
 },
 "nbformat": 4,
 "nbformat_minor": 5
}
