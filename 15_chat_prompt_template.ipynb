{
 "cells": [
  {
   "cell_type": "code",
   "execution_count": 1,
   "id": "54c6bad6",
   "metadata": {},
   "outputs": [],
   "source": [
    "from langchain_core.prompts import ChatPromptTemplate"
   ]
  },
  {
   "cell_type": "code",
   "execution_count": 2,
   "id": "a1f135ba",
   "metadata": {},
   "outputs": [],
   "source": [
    "# Define a ChatPromptTemplate.\n",
    "# ChatPromptTemplate is designed for models that understand roles (system, human, AI).\n",
    "# It takes a list of tuples, where each tuple represents a message type and its content.\n",
    "# The content can include placeholders (e.g., {domain}, {topic}) which make the\n",
    "# prompt dynamic and reusable.\n",
    "chat_template = ChatPromptTemplate([\n",
    "    # System Message: Sets the AI's persona. Here, it's dynamic based on 'domain'.\n",
    "    ('system', 'You are a helpful {domain} expert'),\n",
    "    # Human Message: Represents the user's query. It's dynamic based on 'topic'.\n",
    "    ('human', 'Explain in simple terms, what is {topic}')\n",
    "])"
   ]
  },
  {
   "cell_type": "code",
   "execution_count": 3,
   "id": "833bf8fa",
   "metadata": {},
   "outputs": [],
   "source": [
    "# Invoke the chat_template to create a concrete prompt.\n",
    "# The 'invoke' method takes a dictionary where keys match the placeholder names\n",
    "# in the template (e.g., 'domain', 'topic'). LangChain replaces these placeholders\n",
    "# with the provided values.\n",
    "prompt = chat_template.invoke({'domain':'data science','topic':'machine learning'})"
   ]
  },
  {
   "cell_type": "code",
   "execution_count": 4,
   "id": "43861e42",
   "metadata": {},
   "outputs": [
    {
     "name": "stdout",
     "output_type": "stream",
     "text": [
      "messages=[SystemMessage(content='You are a helpful data science expert', additional_kwargs={}, response_metadata={}), HumanMessage(content='Explain in simple terms, what is machine learning', additional_kwargs={}, response_metadata={})]\n"
     ]
    }
   ],
   "source": [
    "# Print the resulting prompt object.\n",
    "# The output will show the constructed messages, ready to be sent to a chat model.\n",
    "print(prompt)"
   ]
  }
 ],
 "metadata": {
  "kernelspec": {
   "display_name": "venv",
   "language": "python",
   "name": "python3"
  },
  "language_info": {
   "codemirror_mode": {
    "name": "ipython",
    "version": 3
   },
   "file_extension": ".py",
   "mimetype": "text/x-python",
   "name": "python",
   "nbconvert_exporter": "python",
   "pygments_lexer": "ipython3",
   "version": "3.13.5"
  }
 },
 "nbformat": 4,
 "nbformat_minor": 5
}
