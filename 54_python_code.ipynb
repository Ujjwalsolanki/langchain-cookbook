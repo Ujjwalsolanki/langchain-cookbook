{
 "cells": [
  {
   "cell_type": "code",
   "execution_count": 1,
   "id": "401ad023",
   "metadata": {},
   "outputs": [],
   "source": [
    "from langchain.text_splitter import RecursiveCharacterTextSplitter, Language # Import necessary classes"
   ]
  },
  {
   "cell_type": "code",
   "execution_count": 2,
   "id": "4570dec9",
   "metadata": {},
   "outputs": [],
   "source": [
    "# Define the input text, which is formatted as Python code. 📄\n",
    "# This text includes a class definition, methods, and example usage.\n",
    "text = \"\"\"\n",
    "class Student:\n",
    "    def __init__(self, name, age, grade):\n",
    "        self.name = name\n",
    "        self.age = age\n",
    "        self.grade = grade  # Grade is a float (like 8.5 or 9.2)\n",
    "\n",
    "    def get_details(self):\n",
    "        return self.name\" # Note: There's an extra double quote here, which is a syntax error in actual Python.\n",
    "\n",
    "    def is_passing(self):\n",
    "        return self.grade >= 6.0\n",
    "\n",
    "\n",
    "# Example usage\n",
    "student1 = Student(\"Aarav\", 20, 8.2)\n",
    "print(student1.get_details())\n",
    "\n",
    "if student1.is_passing():\n",
    "    print(\"The student is passing.\")\n",
    "else:\n",
    "    print(\"The student is not passing.\")\n",
    "\n",
    "\"\"\""
   ]
  },
  {
   "cell_type": "code",
   "execution_count": 3,
   "id": "bc8eca7b",
   "metadata": {},
   "outputs": [],
   "source": [
    "# Initialize the splitter using `from_language`. ✂️\n",
    "# By setting `language=Language.PYTHON`, the splitter is configured to understand\n",
    "# Python-specific syntax and structure. It will prioritize splitting at logical\n",
    "# Python boundaries like class definitions, function definitions, and comments.\n",
    "# - `chunk_size=300`: The maximum target size for each text chunk (in characters).\n",
    "# - `chunk_overlap=0`: No characters will overlap between consecutive chunks, meaning each chunk is distinct.\n",
    "splitter = RecursiveCharacterTextSplitter.from_language(\n",
    "    language=Language.PYTHON, # Crucially, specifies Python language for intelligent splitting\n",
    "    chunk_size=300,\n",
    "    chunk_overlap=0,\n",
    ")"
   ]
  },
  {
   "cell_type": "code",
   "execution_count": 4,
   "id": "5aac8ba7",
   "metadata": {},
   "outputs": [],
   "source": [
    "# Perform the text splitting. 📝\n",
    "# The `splitter.split_text(text)` method applies the language-aware splitting logic\n",
    "# to the input Python code, returning a list of smaller text chunks.\n",
    "chunks = splitter.split_text(text)"
   ]
  },
  {
   "cell_type": "code",
   "execution_count": 5,
   "id": "a51fea46",
   "metadata": {},
   "outputs": [
    {
     "name": "stdout",
     "output_type": "stream",
     "text": [
      "3\n"
     ]
    }
   ],
   "source": [
    "# Print the total number of chunks created. 📏\n",
    "print(len(chunks))"
   ]
  },
  {
   "cell_type": "code",
   "execution_count": 6,
   "id": "ff3a00f7",
   "metadata": {},
   "outputs": [
    {
     "name": "stdout",
     "output_type": "stream",
     "text": [
      "def get_details(self):\n",
      "        return self.name\" # Note: There's an extra double quote here, which is a syntax error in actual Python.\n",
      "\n",
      "    def is_passing(self):\n",
      "        return self.grade >= 6.0\n",
      "\n",
      "\n",
      "# Example usage\n",
      "student1 = Student(\"Aarav\", 20, 8.2)\n",
      "print(student1.get_details())\n"
     ]
    }
   ],
   "source": [
    "# Print the content of the second chunk. 📊\n",
    "# You'll observe that the splitter tries to keep complete Python logical units (like entire methods)\n",
    "# within a single chunk if the `chunk_size` allows, rather than cutting in the middle of a line or statement.\n",
    "print(chunks[1])"
   ]
  }
 ],
 "metadata": {
  "kernelspec": {
   "display_name": "venv",
   "language": "python",
   "name": "python3"
  },
  "language_info": {
   "codemirror_mode": {
    "name": "ipython",
    "version": 3
   },
   "file_extension": ".py",
   "mimetype": "text/x-python",
   "name": "python",
   "nbconvert_exporter": "python",
   "pygments_lexer": "ipython3",
   "version": "3.13.5"
  }
 },
 "nbformat": 4,
 "nbformat_minor": 5
}
