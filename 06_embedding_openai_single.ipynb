{
 "cells": [
  {
   "cell_type": "code",
   "execution_count": 1,
   "id": "47b3106d",
   "metadata": {},
   "outputs": [],
   "source": [
    "from langchain_openai import OpenAIEmbeddings\n",
    "from dotenv import load_dotenv"
   ]
  },
  {
   "cell_type": "code",
   "execution_count": 2,
   "id": "07c667b4",
   "metadata": {},
   "outputs": [
    {
     "data": {
      "text/plain": [
       "True"
      ]
     },
     "execution_count": 2,
     "metadata": {},
     "output_type": "execute_result"
    }
   ],
   "source": [
    "# Load environment variables from a .env file.\n",
    "# This is a standard practice for managing sensitive information like API keys\n",
    "# securely, preventing them from being hardcoded directly in the script.\n",
    "load_dotenv()"
   ]
  },
  {
   "cell_type": "code",
   "execution_count": 3,
   "id": "44529788",
   "metadata": {},
   "outputs": [],
   "source": [
    "# Initialize the OpenAIEmbeddings model.\n",
    "# This component is used to convert text into numerical vector representations (embeddings).\n",
    "# - 'model': Specifies the OpenAI embedding model to use. 'text-embedding-3-large'\n",
    "#            is a powerful and versatile model for generating embeddings.\n",
    "# - 'dimensions': Sets the desired dimensionality of the output embedding vector.\n",
    "#                 Here, it's set to 32, meaning each piece of text will be\n",
    "#                 converted into a 32-dimensional vector. This can be useful\n",
    "#                 for memory or performance optimization in certain applications.\n",
    "#                 The choice of dimensions can affect the quality and utility of the embeddings.\n",
    "embedding = OpenAIEmbeddings(model='text-embedding-3-small', dimensions=32)"
   ]
  },
  {
   "cell_type": "code",
   "execution_count": 4,
   "id": "f3a41d6b",
   "metadata": {},
   "outputs": [],
   "source": [
    "# Embed a specific query string.\n",
    "# The 'embed_query' method sends the given text (\"Paris is the capital of France\")\n",
    "# to the OpenAI embedding model and returns its vector representation.\n",
    "# This vector captures the semantic meaning of the text.\n",
    "result = embedding.embed_query(\"Paris is the capital of France\")"
   ]
  },
  {
   "cell_type": "code",
   "execution_count": 5,
   "id": "ecf82b99",
   "metadata": {},
   "outputs": [
    {
     "name": "stdout",
     "output_type": "stream",
     "text": [
      "[0.1233050674200058, 0.07223665714263916, -0.02886820398271084, -0.17961262166500092, -0.16585324704647064, 0.11684875190258026, -0.18702150881290436, 0.1774957925081253, 0.03670045733451843, -0.07991015166044235, 0.009605093859136105, 0.05450825020670891, -0.2139051854610443, 0.031011488288640976, -0.22374841570854187, 0.16617077589035034, -0.21760962903499603, 0.36430561542510986, 0.4051603376865387, -0.09149976819753647, 0.09853821247816086, -0.08329707384109497, -0.0801747515797615, 0.16437147557735443, 0.24512836337089539, 0.11198005080223083, 0.06514529138803482, 0.31223171949386597, 0.060594119131565094, 0.3219691216945648, 0.12139992415904999, -0.06726212054491043]\n"
     ]
    }
   ],
   "source": [
    "# Print the resulting embedding vector.\n",
    "# The 'result' is typically a list of floats (the vector).\n",
    "# We convert it to a string for printing purposes.\n",
    "print(str(result))"
   ]
  }
 ],
 "metadata": {
  "kernelspec": {
   "display_name": "venv",
   "language": "python",
   "name": "python3"
  },
  "language_info": {
   "codemirror_mode": {
    "name": "ipython",
    "version": 3
   },
   "file_extension": ".py",
   "mimetype": "text/x-python",
   "name": "python",
   "nbconvert_exporter": "python",
   "pygments_lexer": "ipython3",
   "version": "3.13.5"
  }
 },
 "nbformat": 4,
 "nbformat_minor": 5
}
