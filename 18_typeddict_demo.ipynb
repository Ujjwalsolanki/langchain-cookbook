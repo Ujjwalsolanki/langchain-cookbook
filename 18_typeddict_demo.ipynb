{
 "cells": [
  {
   "cell_type": "code",
   "execution_count": 1,
   "id": "fc5f9c55",
   "metadata": {},
   "outputs": [],
   "source": [
    "from typing import TypedDict"
   ]
  },
  {
   "cell_type": "code",
   "execution_count": 2,
   "id": "00b88433",
   "metadata": {},
   "outputs": [],
   "source": [
    "# Define a TypedDict called 'Person'.\n",
    "# TypedDict is a special type hint that allows you to define a dictionary\n",
    "# with a fixed set of keys and specific types for their values.\n",
    "# It's primarily used for static type checking (e.g., by tools like MyPy)\n",
    "# to ensure data conforms to a predefined structure at development time.\n",
    "class Person(TypedDict):\n",
    "    name: str # 'name' key is expected to hold a string value\n",
    "    age: int  # 'age' key is expected to hold an integer value"
   ]
  },
  {
   "cell_type": "code",
   "execution_count": 3,
   "id": "4c0575f2",
   "metadata": {},
   "outputs": [],
   "source": [
    "# Create an instance of the 'Person' TypedDict.\n",
    "# Here, 'name' is correctly assigned a string 'nitish'.\n",
    "# However, 'age' is assigned a string '35', which violates the 'int' type hint\n",
    "# specified in the 'Person' TypedDict definition.\n",
    "# IMPORTANT: Python's runtime does NOT enforce these type hints for TypedDicts.\n",
    "# The type checking occurs during static analysis (e.g., when you run a linter or MyPy).\n",
    "new_person: Person = {'name':'ujjwal', 'age':'34'}"
   ]
  },
  {
   "cell_type": "code",
   "execution_count": 4,
   "id": "1facc89e",
   "metadata": {},
   "outputs": [
    {
     "name": "stdout",
     "output_type": "stream",
     "text": [
      "{'name': 'ujjwal', 'age': '34'}\n"
     ]
    }
   ],
   "source": [
    "# Print the dictionary.\n",
    "# Despite the type mismatch for 'age', Python will execute this line\n",
    "# without error and simply print the dictionary as defined.\n",
    "# The type hint violation would only be flagged by a static type checker.\n",
    "print(new_person)"
   ]
  }
 ],
 "metadata": {
  "kernelspec": {
   "display_name": "venv",
   "language": "python",
   "name": "python3"
  },
  "language_info": {
   "codemirror_mode": {
    "name": "ipython",
    "version": 3
   },
   "file_extension": ".py",
   "mimetype": "text/x-python",
   "name": "python",
   "nbconvert_exporter": "python",
   "pygments_lexer": "ipython3",
   "version": "3.13.5"
  }
 },
 "nbformat": 4,
 "nbformat_minor": 5
}
