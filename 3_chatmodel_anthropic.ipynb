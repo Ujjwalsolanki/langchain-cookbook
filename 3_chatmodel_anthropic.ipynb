{
 "cells": [
  {
   "cell_type": "code",
   "execution_count": 1,
   "id": "15b4ad6f",
   "metadata": {},
   "outputs": [],
   "source": [
    "from langchain_anthropic import ChatAnthropic\n",
    "from dotenv import load_dotenv"
   ]
  },
  {
   "cell_type": "code",
   "execution_count": 2,
   "id": "b13fc4ab",
   "metadata": {},
   "outputs": [
    {
     "data": {
      "text/plain": [
       "True"
      ]
     },
     "execution_count": 2,
     "metadata": {},
     "output_type": "execute_result"
    }
   ],
   "source": [
    "# Load environment variables from a .env file.\n",
    "# This is a best practice for securely managing sensitive information,\n",
    "# such as API keys, keeping them out of the main codebase.\n",
    "load_dotenv()"
   ]
  },
  {
   "cell_type": "code",
   "execution_count": 3,
   "id": "ec71c33a",
   "metadata": {},
   "outputs": [],
   "source": [
    "# Initialize the ChatAnthropic language model.\n",
    "model = ChatAnthropic(model='claude-3-5-sonnet-20241022')"
   ]
  },
  {
   "cell_type": "code",
   "execution_count": 4,
   "id": "3681e267",
   "metadata": {},
   "outputs": [],
   "source": [
    "# Invoke the language model with a specific prompt.\n",
    "# The prompt asks the model to what is the capital of France.\n",
    "# The 'invoke' method sends this request to the model.\n",
    "result = model.invoke(\"what is the capital of France?\")"
   ]
  },
  {
   "cell_type": "code",
   "execution_count": 5,
   "id": "e26f78bd",
   "metadata": {},
   "outputs": [
    {
     "name": "stdout",
     "output_type": "stream",
     "text": [
      "The capital of France is Paris. It is also the largest city in France and one of the most populous cities in Europe.\n"
     ]
    }
   ],
   "source": [
    "# Print the content of the result.\n",
    "# The 'invoke' method for ChatAnthropic returns a ChatMessage object,\n",
    "# and the actual generated text is accessed via its '.content' attribute.\n",
    "print(result.content)"
   ]
  }
 ],
 "metadata": {
  "kernelspec": {
   "display_name": "venv",
   "language": "python",
   "name": "python3"
  },
  "language_info": {
   "codemirror_mode": {
    "name": "ipython",
    "version": 3
   },
   "file_extension": ".py",
   "mimetype": "text/x-python",
   "name": "python",
   "nbconvert_exporter": "python",
   "pygments_lexer": "ipython3",
   "version": "3.13.5"
  }
 },
 "nbformat": 4,
 "nbformat_minor": 5
}
