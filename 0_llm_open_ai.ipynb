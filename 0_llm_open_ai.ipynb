{
 "cells": [
  {
   "cell_type": "code",
   "execution_count": 1,
   "id": "5dc173a6-0ba8-48e9-b175-c61caea64aed",
   "metadata": {},
   "outputs": [],
   "source": [
    "from langchain_openai import OpenAI\n",
    "from dotenv import load_dotenv"
   ]
  },
  {
   "cell_type": "code",
   "execution_count": 2,
   "id": "02698b93",
   "metadata": {},
   "outputs": [
    {
     "data": {
      "text/plain": [
       "True"
      ]
     },
     "execution_count": 2,
     "metadata": {},
     "output_type": "execute_result"
    }
   ],
   "source": [
    "# Load environment variables from a .env file.\n",
    "# This is crucial for securely managing sensitive information like API keys,\n",
    "# preventing them from being hardcoded directly into the script.\n",
    "load_dotenv()"
   ]
  },
  {
   "cell_type": "code",
   "execution_count": 3,
   "id": "097fc3dd",
   "metadata": {},
   "outputs": [],
   "source": [
    "# Initialize the OpenAI language model.\n",
    "# We're using the 'gpt-3.5-turbo-instruct' model, which is suitable for\n",
    "# a wide range of natural language processing tasks due to its balance\n",
    "# of performance and cost-effectiveness.\n",
    "llm = OpenAI(model='gpt-4o-mini')"
   ]
  },
  {
   "cell_type": "code",
   "execution_count": 4,
   "id": "fba72371",
   "metadata": {},
   "outputs": [],
   "source": [
    "# Invoke the language model with a specific prompt.\n",
    "# The prompt is a question asking for the capital of India.\n",
    "# The 'invoke' method sends this prompt to the OpenAI model and\n",
    "# awaits its response.\n",
    "result = llm.invoke(\"What is the capital of France?\")"
   ]
  },
  {
   "cell_type": "code",
   "execution_count": 5,
   "id": "b444b13f",
   "metadata": {},
   "outputs": [
    {
     "name": "stdout",
     "output_type": "stream",
     "text": [
      "\"))  # Output: \"Paris\"\n",
      "```\n",
      "\n",
      "### Explanation:\n",
      "- **Initialization**: We initialize a dictionary called `qa_dict` that contains questions as keys and their respective answers as values.\n",
      "- **Function Definition**: The function `get_answer` takes a question as input and looks it up in the dictionary. If the question exists, it returns the corresponding answer; otherwise, it returns a default message indicating that the answer is not available.\n",
      "- **Example Usage**: We call the function with a sample question to demonstrate how it works.\n",
      "\n",
      "You can expand this program by adding more questions and answers to the dictionary or modifying it to fetch questions from a file or a database if needed.\n"
     ]
    }
   ],
   "source": [
    "# Print the result returned by the language model.\n",
    "# This will output the model's answer to the question asked in the prompt.\n",
    "print(result)"
   ]
  }
 ],
 "metadata": {
  "kernelspec": {
   "display_name": "venv",
   "language": "python",
   "name": "python3"
  },
  "language_info": {
   "codemirror_mode": {
    "name": "ipython",
    "version": 3
   },
   "file_extension": ".py",
   "mimetype": "text/x-python",
   "name": "python",
   "nbconvert_exporter": "python",
   "pygments_lexer": "ipython3",
   "version": "3.13.5"
  }
 },
 "nbformat": 4,
 "nbformat_minor": 5
}
