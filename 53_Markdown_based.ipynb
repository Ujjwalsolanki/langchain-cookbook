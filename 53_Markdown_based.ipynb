{
 "cells": [
  {
   "cell_type": "code",
   "execution_count": 1,
   "id": "c0dce3b5",
   "metadata": {},
   "outputs": [],
   "source": [
    "from langchain.text_splitter import RecursiveCharacterTextSplitter, Language # Import necessary classes "
   ]
  },
  {
   "cell_type": "code",
   "execution_count": 2,
   "id": "24400a05",
   "metadata": {},
   "outputs": [],
   "source": [
    "# Define the input text, which is formatted as Markdown. 📄\n",
    "# This text includes Markdown headings, bullet points, and a code block.\n",
    "text = \"\"\"\n",
    "# Project Name: Smart Student Tracker\n",
    "\n",
    "A simple Python-based project to manage and track student data, including their grades, age, and academic status.\n",
    "\n",
    "\n",
    "## Features\n",
    "\n",
    "- Add new students with relevant info\n",
    "- View student details\n",
    "- Check if a student is passing\n",
    "- Easily extendable class-based design\n",
    "\n",
    "\n",
    "## 🛠 Tech Stack\n",
    "\n",
    "- Python 3.10+\n",
    "- No external dependencies\n",
    "\n",
    "\n",
    "## Getting Started\n",
    "\n",
    "1. Clone the repo\n",
    "   ```bash\n",
    "   git clone [https://github.com/ujjwalsolanki/student-tracker.git](https://github.com/ujjwalsolanki/student-tracker.git)\n",
    "\n",
    "\"\"\""
   ]
  },
  {
   "cell_type": "code",
   "execution_count": 3,
   "id": "e2832f86",
   "metadata": {},
   "outputs": [],
   "source": [
    "# Initialize the splitter using `from_language`. ✂️\n",
    "# This is a powerful feature of RecursiveCharacterTextSplitter that allows it to understand\n",
    "# the inherent structure of specific file types (like Markdown, Python code, HTML, etc.).\n",
    "# - `language=Language.MARKDOWN`: This tells the splitter to use Markdown-specific separators.\n",
    "#   It will prioritize splitting at logical Markdown boundaries like headings (##), code blocks,\n",
    "#   and lists, before resorting to more generic character-based splitting.\n",
    "# - `chunk_size=200`: The maximum target size for each text chunk (in characters).\n",
    "# - `chunk_overlap=0`: No characters will overlap between consecutive chunks.\n",
    "splitter = RecursiveCharacterTextSplitter.from_language(\n",
    "    language=Language.MARKDOWN,\n",
    "    chunk_size=200,\n",
    "    chunk_overlap=0,\n",
    ")"
   ]
  },
  {
   "cell_type": "code",
   "execution_count": 4,
   "id": "ec82ab76",
   "metadata": {},
   "outputs": [],
   "source": [
    "# Perform the text splitting. 📝\n",
    "# The `splitter.split_text(text)` method applies the language-aware splitting logic\n",
    "# to the input Markdown string, returning a list of smaller text chunks.\n",
    "chunks = splitter.split_text(text)"
   ]
  },
  {
   "cell_type": "code",
   "execution_count": 5,
   "id": "962720c7",
   "metadata": {},
   "outputs": [
    {
     "name": "stdout",
     "output_type": "stream",
     "text": [
      "4\n"
     ]
    }
   ],
   "source": [
    "# Print the total number of chunks created. 📏\n",
    "print(len(chunks))"
   ]
  },
  {
   "cell_type": "code",
   "execution_count": 6,
   "id": "4a88a4f6",
   "metadata": {},
   "outputs": [
    {
     "name": "stdout",
     "output_type": "stream",
     "text": [
      "# Project Name: Smart Student Tracker\n",
      "\n",
      "A simple Python-based project to manage and track student data, including their grades, age, and academic status.\n"
     ]
    }
   ],
   "source": [
    "# Print the content of the first chunk. 📊\n",
    "# You'll likely observe that the splitter tries to keep logical Markdown sections intact,\n",
    "# rather than cutting in the middle of a heading or a list item if possible.\n",
    "print(chunks[0])"
   ]
  }
 ],
 "metadata": {
  "kernelspec": {
   "display_name": "venv",
   "language": "python",
   "name": "python3"
  },
  "language_info": {
   "codemirror_mode": {
    "name": "ipython",
    "version": 3
   },
   "file_extension": ".py",
   "mimetype": "text/x-python",
   "name": "python",
   "nbconvert_exporter": "python",
   "pygments_lexer": "ipython3",
   "version": "3.13.5"
  }
 },
 "nbformat": 4,
 "nbformat_minor": 5
}
