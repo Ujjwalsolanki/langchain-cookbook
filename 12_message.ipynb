{
 "cells": [
  {
   "cell_type": "code",
   "execution_count": 1,
   "id": "d2363c05",
   "metadata": {},
   "outputs": [],
   "source": [
    "from langchain_openai import ChatOpenAI\n",
    "from langchain_core.messages import SystemMessage, HumanMessage, AIMessage\n",
    "from dotenv import load_dotenv"
   ]
  },
  {
   "cell_type": "code",
   "execution_count": 2,
   "id": "791c55a6",
   "metadata": {},
   "outputs": [
    {
     "data": {
      "text/plain": [
       "True"
      ]
     },
     "execution_count": 2,
     "metadata": {},
     "output_type": "execute_result"
    }
   ],
   "source": [
    "# Load environment variables from a .env file.\n",
    "# This is a crucial step for securely managing sensitive information like API keys\n",
    "# (e.g., your OpenAI API key) by loading them from an external file (`.env`)\n",
    "# rather than hardcoding them directly into your script. This practice enhances security.\n",
    "load_dotenv()"
   ]
  },
  {
   "cell_type": "code",
   "execution_count": 3,
   "id": "0ce2b6d0",
   "metadata": {},
   "outputs": [],
   "source": [
    "# Initialize the ChatOpenAI language model.\n",
    "# This creates an instance of the OpenAI chat model (it typically defaults to 'gpt-3.5-turbo'\n",
    "# if no specific model name is provided). This 'model' object is your interface for\n",
    "# sending and receiving chat messages with the OpenAI API.\n",
    "model = ChatOpenAI()"
   ]
  },
  {
   "cell_type": "code",
   "execution_count": 4,
   "id": "f4a9e114",
   "metadata": {},
   "outputs": [],
   "source": [
    "# Define the initial conversation messages.\n",
    "# This list holds the turns of your conversation, allowing the AI to understand context.\n",
    "# - SystemMessage: Sets the initial behavior, persona, or instructions for the AI.\n",
    "#                  It guides how the AI should respond throughout the chat.\n",
    "# - HumanMessage: Represents the user's input or query in the conversation.\n",
    "#                 It's how you convey what the user wants to say to the model.\n",
    "messages=[\n",
    "    SystemMessage(content='You are a helpful assistant'),\n",
    "    HumanMessage(content='Tell me about LangChain')\n",
    "]"
   ]
  },
  {
   "cell_type": "code",
   "execution_count": 5,
   "id": "e12ede14",
   "metadata": {},
   "outputs": [],
   "source": [
    "# Invoke the language model with the list of messages.\n",
    "# The 'invoke' method sends the entire `messages` list (the conversation history)\n",
    "# to the OpenAI model. The model processes this context and generates a relevant response.\n",
    "result = model.invoke(messages)"
   ]
  },
  {
   "cell_type": "code",
   "execution_count": 6,
   "id": "ee613963",
   "metadata": {},
   "outputs": [],
   "source": [
    "# Append the AI's response to the messages list.\n",
    "# This is a vital step for maintaining the conversation history. By adding the AI's\n",
    "# reply (extracted from `result.content` as an `AIMessage`) back into the `messages` list,\n",
    "# the model can \"remember\" its own previous statements in subsequent turns.\n",
    "messages.append(AIMessage(content=result.content))"
   ]
  },
  {
   "cell_type": "code",
   "execution_count": 7,
   "id": "23c2e873",
   "metadata": {},
   "outputs": [
    {
     "name": "stdout",
     "output_type": "stream",
     "text": [
      "[SystemMessage(content='You are a helpful assistant', additional_kwargs={}, response_metadata={}), HumanMessage(content='Tell me about LangChain', additional_kwargs={}, response_metadata={}), AIMessage(content='LangChain is a blockchain platform that focuses on developing decentralized applications for the language learning industry. It aims to revolutionize the way people learn languages by leveraging blockchain technology to create a more interactive, engaging, and personalized learning experience. LangChain offers features such as smart contracts, incentivized learning programs, and a community-driven approach to language learning. It has the potential to disrupt the traditional language learning market and provide new opportunities for learners and educators alike.', additional_kwargs={}, response_metadata={})]\n"
     ]
    }
   ],
   "source": [
    "# Print the entire updated messages list.\n",
    "# This will output the complete conversation: the initial system message, the human's query,\n",
    "# and finally, the AI's generated response, showing how the history builds up.\n",
    "print(messages)"
   ]
  }
 ],
 "metadata": {
  "kernelspec": {
   "display_name": "venv",
   "language": "python",
   "name": "python3"
  },
  "language_info": {
   "codemirror_mode": {
    "name": "ipython",
    "version": 3
   },
   "file_extension": ".py",
   "mimetype": "text/x-python",
   "name": "python",
   "nbconvert_exporter": "python",
   "pygments_lexer": "ipython3",
   "version": "3.13.5"
  }
 },
 "nbformat": 4,
 "nbformat_minor": 5
}
