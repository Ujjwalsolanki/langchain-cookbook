{
 "cells": [
  {
   "cell_type": "code",
   "execution_count": 1,
   "id": "81db931c",
   "metadata": {},
   "outputs": [],
   "source": [
    "from langchain_community.document_loaders import TextLoader # For loading text documents\n",
    "from langchain_openai import ChatOpenAI # For interacting with OpenAI chat models\n",
    "from langchain_core.output_parsers import StrOutputParser # For parsing LLM output to a string\n",
    "from langchain_core.prompts import PromptTemplate # For creating reusable prompt structures\n",
    "from dotenv import load_dotenv # For loading environment variables\n",
    "\n",
    "# Load environment variables from a .env file. 🌍\n",
    "# This is crucial for securely loading your API keys (e.g., OPENAI_API_KEY)\n",
    "# so they are not hardcoded directly in your script.\n",
    "load_dotenv()\n",
    "\n",
    "# Initialize the ChatOpenAI language model. 🤖\n",
    "# This creates an instance of the OpenAI chat model (e.g., gpt-3.5-turbo or gpt-4).\n",
    "# This model will be used to generate the summary of the poem.\n",
    "model = ChatOpenAI()"
   ]
  },
  {
   "cell_type": "code",
   "execution_count": 2,
   "id": "c266eef9",
   "metadata": {},
   "outputs": [],
   "source": [
    "# Define the PromptTemplate for summarizing a poem. 📝\n",
    "# This template takes a single input variable, 'poem', and instructs the LLM\n",
    "# to write a summary for the provided poem text.\n",
    "prompt = PromptTemplate(\n",
    "    template='Write a summary for the following poem - \\n {poem}',\n",
    "    input_variables=['poem']\n",
    ")"
   ]
  },
  {
   "cell_type": "code",
   "execution_count": 3,
   "id": "d845ba10",
   "metadata": {},
   "outputs": [],
   "source": [
    "# Initialize a StrOutputParser. 📄\n",
    "# This parser is responsible for taking the raw output from the LLM (which is\n",
    "# typically a message object) and extracting its content as a simple string.\n",
    "# This makes the LLM's output directly usable by subsequent components or for printing.\n",
    "parser = StrOutputParser()"
   ]
  },
  {
   "cell_type": "code",
   "execution_count": 4,
   "id": "228ab2ad",
   "metadata": {},
   "outputs": [],
   "source": [
    "# Initialize the TextLoader to load content from a file. 📂\n",
    "# 'cricket.txt' is the name of the file to load.\n",
    "# `encoding='utf-8'` specifies the character encoding, which is common for text files.\n",
    "loader = TextLoader('data\\\\45_ai.txt', encoding='utf-8')"
   ]
  },
  {
   "cell_type": "code",
   "execution_count": 5,
   "id": "6eeb2e77",
   "metadata": {},
   "outputs": [],
   "source": [
    "# Load the document(s) using the loader. 📚\n",
    "# The `loader.load()` method reads the file and returns a list of `Document` objects.\n",
    "# Each `Document` object contains the `page_content` (the text from the file)\n",
    "# and `metadata` (information about the document, like its source).\n",
    "docs = loader.load()"
   ]
  },
  {
   "cell_type": "code",
   "execution_count": 6,
   "id": "ae83fc60",
   "metadata": {},
   "outputs": [
    {
     "name": "stdout",
     "output_type": "stream",
     "text": [
      "Type of 'docs': <class 'list'>\n"
     ]
    }
   ],
   "source": [
    "# Print the type of the 'docs' variable. 🧐\n",
    "# It will confirm that `docs` is a list (specifically, a list of LangChain Document objects).\n",
    "print(f\"Type of 'docs': {type(docs)}\")"
   ]
  },
  {
   "cell_type": "code",
   "execution_count": 7,
   "id": "50768357",
   "metadata": {},
   "outputs": [
    {
     "name": "stdout",
     "output_type": "stream",
     "text": [
      "Number of documents loaded: 1\n"
     ]
    }
   ],
   "source": [
    "# Print the number of documents loaded. 📏\n",
    "# If 'cricket.txt' is a single file, this will typically be 1.\n",
    "print(f\"Number of documents loaded: {len(docs)}\")"
   ]
  },
  {
   "cell_type": "code",
   "execution_count": 8,
   "id": "aa880e13",
   "metadata": {},
   "outputs": [
    {
     "name": "stdout",
     "output_type": "stream",
     "text": [
      "\n",
      "Content of the first document:\n",
      "AI, or **Artificial Intelligence**, is a field of computer science focused on creating machines that can perform tasks typically requiring human intelligence 🧠. This includes learning, problem-solving, decision-making, perception, and understanding language. From powering virtual assistants and recommending movies to driving autonomous vehicles and assisting in medical diagnostics, AI is rapidly transforming industries and daily life. It encompasses various techniques, including **machine learning** and **deep learning**, enabling systems to learn from data and improve performance over time. While offering immense potential, AI also raises important considerations regarding ethics, bias, and its societal impact.\n"
     ]
    }
   ],
   "source": [
    "# Print the actual content of the first document. 📜\n",
    "# `docs[0]` accesses the first Document object in the list.\n",
    "# `.page_content` retrieves the main text content from that document.\n",
    "print(\"\\nContent of the first document:\")\n",
    "print(docs[0].page_content)"
   ]
  },
  {
   "cell_type": "code",
   "execution_count": 9,
   "id": "9a25ba73",
   "metadata": {},
   "outputs": [
    {
     "name": "stdout",
     "output_type": "stream",
     "text": [
      "\n",
      "Metadata of the first document:\n",
      "{'source': 'data\\\\45_ai.txt'}\n"
     ]
    }
   ],
   "source": [
    "# Print the metadata associated with the first document. 🏷️\n",
    "# `.metadata` retrieves a dictionary containing information like the source file path.\n",
    "print(\"\\nMetadata of the first document:\")\n",
    "print(docs[0].metadata)"
   ]
  },
  {
   "cell_type": "code",
   "execution_count": 10,
   "id": "b077487c",
   "metadata": {},
   "outputs": [],
   "source": [
    "# Create a LangChain Expression Language (LCEL) chain. 🔗\n",
    "# The `|` operator pipes the output of one component as the input to the next.\n",
    "# 1. `prompt`: Takes the `poem` content from the `invoke` call and formats the prompt.\n",
    "# 2. `model`: Receives the formatted prompt and generates the summary.\n",
    "# 3. `parser`: Takes the LLM's summary output and extracts it as a clean string.\n",
    "chain = prompt | model | parser"
   ]
  },
  {
   "cell_type": "code",
   "execution_count": 11,
   "id": "f1200059",
   "metadata": {},
   "outputs": [
    {
     "name": "stdout",
     "output_type": "stream",
     "text": [
      "\n",
      "Generated Summary:\n",
      "The poem introduces the concept of Artificial Intelligence (AI) as a field of computer science that aims to create machines capable of performing tasks that typically require human intelligence. It highlights the various capabilities of AI, such as learning, problem-solving, decision-making, perception, and language understanding, and how it is transforming industries and daily life by powering virtual assistants, recommending movies, driving autonomous vehicles, and assisting in medical diagnostics. The poem also mentions the techniques used in AI, such as machine learning and deep learning, which allow systems to learn from data and improve performance over time. However, it also touches on the ethical considerations, biases, and societal impact that come with the advancements in AI technology.\n"
     ]
    }
   ],
   "source": [
    "# Invoke the chain with the poem content from the loaded document. 🚀\n",
    "# We pass the `page_content` of the first document to the 'poem' input variable of our prompt.\n",
    "# The chain then executes the entire pipeline: prompt formatting -> LLM call -> output parsing.\n",
    "print(\"\\nGenerated Summary:\")\n",
    "print(chain.invoke({'poem':docs[0].page_content}))"
   ]
  }
 ],
 "metadata": {
  "kernelspec": {
   "display_name": "venv",
   "language": "python",
   "name": "python3"
  },
  "language_info": {
   "codemirror_mode": {
    "name": "ipython",
    "version": 3
   },
   "file_extension": ".py",
   "mimetype": "text/x-python",
   "name": "python",
   "nbconvert_exporter": "python",
   "pygments_lexer": "ipython3",
   "version": "3.13.5"
  }
 },
 "nbformat": 4,
 "nbformat_minor": 5
}
